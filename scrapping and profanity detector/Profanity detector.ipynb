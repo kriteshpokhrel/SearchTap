{
 "cells": [
  {
   "cell_type": "code",
   "execution_count": 1,
   "id": "improving-optimization",
   "metadata": {},
   "outputs": [],
   "source": [
    "import tensorflow as tf"
   ]
  },
  {
   "cell_type": "code",
   "execution_count": 2,
   "id": "executed-silly",
   "metadata": {},
   "outputs": [],
   "source": [
    "from tensorflow.keras.preprocessing.text import Tokenizer\n",
    "from tensorflow.keras.preprocessing.sequence import pad_sequences\n",
    "\n",
    "vocab_size = 200000\n",
    "embedding_dim = 16\n",
    "max_length = 80\n",
    "trunc_type = \"post\"\n",
    "padding_type = \"post\"\n",
    "oov_tok = \"<OOV>\"\n",
    "training_size = 140000"
   ]
  },
  {
   "cell_type": "code",
   "execution_count": 3,
   "id": "civic-chair",
   "metadata": {},
   "outputs": [],
   "source": [
    "import csv\n",
    "import numpy as np\n",
    "import pandas as pd\n",
    "\n",
    "labels = []\n",
    "sentences = []\n",
    "\n",
    "with open('clean_data.csv',encoding='utf-8-sig') as file:\n",
    "    data = csv.reader(file,delimiter = ',')\n",
    "    for item in data:\n",
    "        labels.append(item[0])\n",
    "        sentences.append(item[1])\n",
    "labels = [int(i) for i in labels]\n",
    "train_sentences = np.array(sentences)\n",
    "train_labels = np.array(labels)\n"
   ]
  },
  {
   "cell_type": "code",
   "execution_count": 4,
   "id": "dated-medicaid",
   "metadata": {},
   "outputs": [],
   "source": [
    "tokenizer =Tokenizer(num_words=vocab_size,oov_token = oov_tok)\n",
    "tokenizer.fit_on_texts(sentences)\n",
    "training_sequences = tokenizer.texts_to_sequences(train_sentences)\n",
    "training_padded = pad_sequences(training_sequences,maxlen = max_length,padding = padding_type,truncating = trunc_type)\n"
   ]
  },
  {
   "cell_type": "code",
   "execution_count": 5,
   "id": "functional-profession",
   "metadata": {
    "scrolled": true
   },
   "outputs": [
    {
     "name": "stdout",
     "output_type": "stream",
     "text": [
      "Model: \"sequential\"\n",
      "_________________________________________________________________\n",
      "Layer (type)                 Output Shape              Param #   \n",
      "=================================================================\n",
      "embedding (Embedding)        (None, 80, 16)            3200000   \n",
      "_________________________________________________________________\n",
      "bidirectional (Bidirectional (None, 128)               41472     \n",
      "_________________________________________________________________\n",
      "dense (Dense)                (None, 24)                3096      \n",
      "_________________________________________________________________\n",
      "dense_1 (Dense)              (None, 1)                 25        \n",
      "=================================================================\n",
      "Total params: 3,244,593\n",
      "Trainable params: 3,244,593\n",
      "Non-trainable params: 0\n",
      "_________________________________________________________________\n"
     ]
    }
   ],
   "source": [
    "model = tf.keras.Sequential([\n",
    "    tf.keras.layers.Embedding(vocab_size, embedding_dim, input_length=max_length),\n",
    "    tf.keras.layers.Bidirectional(tf.keras.layers.LSTM(64)),\n",
    "    tf.keras.layers.Dense(24, activation='relu'),\n",
    "    tf.keras.layers.Dense(1, activation='sigmoid')\n",
    "])\n",
    "model.compile(loss='binary_crossentropy',optimizer='adam',metrics=['accuracy'])\n",
    "\n",
    "model.summary()"
   ]
  },
  {
   "cell_type": "code",
   "execution_count": 6,
   "id": "clean-vegetarian",
   "metadata": {},
   "outputs": [
    {
     "name": "stdout",
     "output_type": "stream",
     "text": [
      "Epoch 1/5\n",
      "5762/5762 [==============================] - 418s 72ms/step - loss: 0.1866 - accuracy: 0.9308\n",
      "Epoch 2/5\n",
      "5762/5762 [==============================] - 454s 79ms/step - loss: 0.0825 - accuracy: 0.9697\n",
      "Epoch 3/5\n",
      "5762/5762 [==============================] - 469s 81ms/step - loss: 0.0613 - accuracy: 0.9776\n",
      "Epoch 4/5\n",
      "5762/5762 [==============================] - 463s 80ms/step - loss: 0.0456 - accuracy: 0.9835\n",
      "Epoch 5/5\n",
      "5762/5762 [==============================] - 400s 69ms/step - loss: 0.0325 - accuracy: 0.9883\n"
     ]
    }
   ],
   "source": [
    "from tensorflow.keras.callbacks import ModelCheckpoint\n",
    "\n",
    "checkpoint_path = r'C:\\Users\\krite\\Desktop\\Search Engine'\n",
    "cp_callback = tf.keras.callbacks.ModelCheckpoint(\n",
    "    filepath=checkpoint_path, \n",
    "    verbose=1, \n",
    "    save_weights_only=True,\n",
    "    save_best_only=True,\n",
    "    save_freq='epoch')\n",
    "\n",
    "num_epochs = 5\n",
    "# mathiko callback to be implemented in callbacks of fit, but doesn't save the model for now idk why\n",
    "history = model.fit(training_padded, train_labels, epochs=num_epochs, verbose=1)\n"
   ]
  },
  {
   "cell_type": "code",
   "execution_count": 7,
   "id": "touched-gardening",
   "metadata": {},
   "outputs": [],
   "source": [
    "model.save('./checkpoint/profanity_model.h5')\n",
    "#saving mero model ho ma model"
   ]
  },
  {
   "cell_type": "code",
   "execution_count": 8,
   "id": "straight-canon",
   "metadata": {},
   "outputs": [],
   "source": [
    "sep = tf.keras.models.load_model('./checkpoint/profanity_model.h5')"
   ]
  },
  {
   "cell_type": "code",
   "execution_count": 9,
   "id": "covered-amino",
   "metadata": {},
   "outputs": [
    {
     "name": "stdout",
     "output_type": "stream",
     "text": [
      "Model: \"sequential\"\n",
      "_________________________________________________________________\n",
      "Layer (type)                 Output Shape              Param #   \n",
      "=================================================================\n",
      "embedding (Embedding)        (None, 80, 16)            3200000   \n",
      "_________________________________________________________________\n",
      "bidirectional (Bidirectional (None, 128)               41472     \n",
      "_________________________________________________________________\n",
      "dense (Dense)                (None, 24)                3096      \n",
      "_________________________________________________________________\n",
      "dense_1 (Dense)              (None, 1)                 25        \n",
      "=================================================================\n",
      "Total params: 3,244,593\n",
      "Trainable params: 3,244,593\n",
      "Non-trainable params: 0\n",
      "_________________________________________________________________\n"
     ]
    }
   ],
   "source": [
    "sep.summary()"
   ]
  },
  {
   "cell_type": "code",
   "execution_count": 21,
   "id": "mighty-truck",
   "metadata": {},
   "outputs": [
    {
     "name": "stdout",
     "output_type": "stream",
     "text": [
      "[[0.99990195]]\n"
     ]
    }
   ],
   "source": [
    "sentence = ['fuck']\n",
    "tokenized = tokenizer.texts_to_sequences(sentence)\n",
    "padded = pad_sequences(tokenized,maxlen = max_length,padding = padding_type,truncating = trunc_type)\n",
    "print(sep.predict(padded))"
   ]
  },
  {
   "cell_type": "code",
   "execution_count": 20,
   "id": "cross-crack",
   "metadata": {},
   "outputs": [],
   "source": [
    "import pickle\n",
    "\n",
    "with open('./checkpoint/tokenizer.pickle', 'wb') as handle:\n",
    "    pickle.dump(tokenizer, handle, protocol=pickle.HIGHEST_PROTOCOL)"
   ]
  },
  {
   "cell_type": "code",
   "execution_count": null,
   "id": "humanitarian-edwards",
   "metadata": {},
   "outputs": [],
   "source": []
  }
 ],
 "metadata": {
  "kernelspec": {
   "display_name": "Python 3",
   "language": "python",
   "name": "python3"
  },
  "language_info": {
   "codemirror_mode": {
    "name": "ipython",
    "version": 3
   },
   "file_extension": ".py",
   "mimetype": "text/x-python",
   "name": "python",
   "nbconvert_exporter": "python",
   "pygments_lexer": "ipython3",
   "version": "3.7.0"
  }
 },
 "nbformat": 4,
 "nbformat_minor": 5
}
