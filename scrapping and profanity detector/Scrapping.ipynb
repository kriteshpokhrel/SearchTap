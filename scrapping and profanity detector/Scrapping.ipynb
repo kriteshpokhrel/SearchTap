{
 "cells": [
  {
   "cell_type": "code",
   "execution_count": 104,
   "id": "colonial-gender",
   "metadata": {
    "scrolled": true
   },
   "outputs": [
    {
     "name": "stdout",
     "output_type": "stream",
     "text": [
      "new mobile phone\n",
      "13\n",
      "12\n",
      "22\n",
      "22\n"
     ]
    }
   ],
   "source": [
    "import time\n",
    "from selenium import webdriver\n",
    "from selenium.webdriver.common.keys import Keys\n",
    "from selenium.webdriver.common.by import By\n",
    "from selenium.webdriver.support.ui import WebDriverWait\n",
    "from selenium.webdriver.support import expected_conditions as EC\n",
    "\n",
    "Path = r\"C:\\\\chromedriver.exe\"\n",
    "driver = webdriver.Chrome(Path) #creating the driver\n",
    "\n",
    "#converting the search query into link address\n",
    "keys=list(map(str,input().split()))\n",
    "search = \"+\".join(key for key in keys)\n",
    "driver.get(\"https://www.bing.com/search?q=\"+search)\n",
    "\n",
    "\n",
    "heading_text = []\n",
    "links = []\n",
    "description = []\n",
    "def scrape(driver):    \n",
    "    #until all element is loaded/wait for 15 secs, results are extracted\n",
    "    elements = WebDriverWait(driver, 15).until(\n",
    "                EC.presence_of_element_located((By.ID, \"b_results\"))\n",
    "            )\n",
    "\n",
    "    #finding the headings elements\n",
    "    headings = elements.find_elements_by_tag_name('h2')\n",
    "\n",
    "    #finding the header content as text from element\n",
    "    for heading in headings:\n",
    "        #header = article.find_element_by_tag_name('h2')\n",
    "        heading_text.append(heading.text.lstrip())\n",
    "    print(len(heading_text))\n",
    "    #clearing headings\n",
    "    for heading in heading_text:\n",
    "        if('EXPLORE' in heading):\n",
    "            heading_text.remove(heading)\n",
    "    print(len(heading_text))\n",
    "    link_elements = elements.find_elements_by_xpath('//h2//a') #finding link elements\n",
    "\n",
    "    for link in link_elements:\n",
    "        links.append(link.get_attribute('href')) #finding links\n",
    "\n",
    "\n",
    "    desc_element = elements.find_elements_by_xpath('//p') #description elements\n",
    "    for desc in desc_element:\n",
    "        if desc.text:\n",
    "            description.append(desc.text.lstrip()) #description as text\n",
    "\n",
    "scrape(driver)\n",
    "time.sleep(1)\n",
    "driver.find_element_by_xpath(\"//a[@aria-label='Page 2']\").click()\n",
    "scrape(driver)\n",
    "\n"
   ]
  },
  {
   "cell_type": "code",
   "execution_count": 105,
   "id": "southeast-technique",
   "metadata": {
    "scrolled": true
   },
   "outputs": [
    {
     "name": "stdout",
     "output_type": "stream",
     "text": [
      "22 21 18\n"
     ]
    }
   ],
   "source": [
    "print(len(heading_text),len(links),len(description))"
   ]
  },
  {
   "cell_type": "code",
   "execution_count": 106,
   "id": "dirty-hepatitis",
   "metadata": {
    "scrolled": false
   },
   "outputs": [
    {
     "name": "stdout",
     "output_type": "stream",
     "text": [
      "https://www.mysmartprice.com/mobile/pricelist/latest-mobile-phones.html \n",
      " New Mobile Phones 2021 | Latest Mobile Price List in India ... \n",
      " 11/06/2021 · Best New Launched Mobile Price List 2021 Models Price ; Vivo iQoo Z3 ₹19,990: Vivo iQOO 7 ₹31,990: Realme 8 5G ₹14,999: Vivo Y73 2021 ₹20,990: Xiaomi Poco M3 Pro 5G ₹13,999: Realme X7 Max ₹26,999 \n",
      "\n",
      "\n",
      "\n",
      "\n",
      "https://gadgets.ndtv.com/mobiles/latest-phones \n",
      " Latest Phones : Latest & New Mobile Phones List in 2021. \n",
      " Latest Mobile Phones - List of all the latest and upcoming mobile phones available from various smartphone companies and brands in 2021. \n",
      "\n",
      "\n",
      "\n",
      "\n",
      "https://www.91mobiles.com/latest-mobiles-in-india \n",
      " Latest Mobile Phone In India 2021 With Prices, New Phones ... \n",
      " List of latest mobile phones in India from leading brands like Samsung, Nokia, Sony, HTC, Apple, Micromax, etc. at 91mobiles.com - a premiere mobile portal in … \n",
      "\n",
      "\n",
      "\n",
      "\n",
      "https://www.amazon.in/mobile-phones/b?node=1389401031 \n",
      " Mobile Phones: Buy New Mobiles Online at Best Prices in ... \n",
      " Find here the list of all mobile phones brands of India and Worldwide, Also check latest smartphones from top & best company like Samsung, Apple, Xiaomi, Vivo, Oppo, OnePlus and more. Home Guide \n",
      "\n",
      "\n",
      "\n",
      "\n",
      "https://www.pcmag.com/picks/the-best-phones \n",
      " The Best Phones for 2021 | PCMag \n",
      " Upcoming Mobiles Price List. Expected Prices. Expected Launch Date. Xiaomi Redmi K40. Rs. 22,490. 21st Jun 2021. Xiaomi Poco F3 GT. Rs. 19,990. 24th Jun 2021. \n",
      "\n",
      "\n",
      "\n",
      "\n",
      "https://gadgets.ndtv.com/mobiles/all-brands \n",
      " Mobile Phones Brands | List of Smartphone Brands (2021 ... \n",
      " Galaxy S21 Ultra 5G. Galaxy S21 Ultra 5G phone in Phantom Black with a red graphic wallpaper onscreen glides across the screen past another Galaxy S21 Ultra 5G phone in Phantom Black. As it moves across the screen, the phone in the background turns, revealing four rear cameras. Galaxy S21 | S21+ 5G. \n",
      "\n",
      "\n",
      "\n",
      "\n",
      "https://www.91mobiles.com/upcoming-mobiles-in-india \n",
      " Upcoming Mobiles India 2021 - Price, Launch Date ... \n",
      " Special deals on the latest cell phones and smartphones. Get FREE SHIPPING on phones and devices with new activations. \n",
      "\n",
      "\n",
      "\n",
      "\n",
      "https://www.samsung.com/in/smartphones/all-smartphones/ \n",
      " All Smartphones - Latest Android Mobile Phones - Samsung \n",
      " Android™ 11 is on its way The latest version of Android brings a bunch of cool features to Nokia smartphones, improving everything from the way you message to the way you get security updates. \n",
      "\n",
      "\n",
      "\n",
      "\n",
      "https://www.t-mobile.com/cell-phones \n",
      " Cell Phones & Smartphones | Shop the Newest Mobile Phones ... \n",
      " Amazon.in: Buy Best Mobile Phones online at Best prices in India at Amazon.in. Browse mobile phones from popular brands including Samsung, Micromax, Apple, HTC, Sony, Nokia, Motorola and more at Amazon.in.COD, Discounts available on eligible purchases. \n",
      "\n",
      "\n",
      "\n",
      "\n",
      "https://www.nokia.com/phones/en_in/ \n",
      " Latest Nokia phones | Our best Android phones 2021 \n",
      " Explore full range of galaxy mobile devices and android smartphones. Buy 3G, 4G, dual sim, touch screen smartphone at best prices in India. \n",
      "\n",
      "\n",
      "\n",
      "\n",
      "https://www.amazon.in/mobile-phones/b?node=1389401031 \n",
      " Mobile Phones: Buy New Mobiles Online at Best Prices in ... \n",
      " 09/06/2021 · Samsung Galaxy S21 Ultra - Best Android Mobile Phone. 2. Oppo Find X2 Pro - Best Mobile Phone. 3. iPhone 12 - Best iPhone for Most People. 4. Samsung Galaxy S21S21 Plus - The go-to Android phone ... \n",
      "\n",
      "\n",
      "\n",
      "\n",
      "https://www.samsung.com/in/smartphones/all-smartphones/ \n",
      " All Smartphones - Latest Android Mobile Phones | Samsung India \n",
      " Mobile gadgets in mobiledokan.com can be found by brands, price range, upcoming section and so on. We also have individual pages for feature phone, tab, smartwatch, mobile phone accessories, laptop and DSLR camera prices. A blog section is also there to keep you informed about the latest news from the mobile phone industry. \n",
      "\n",
      "\n",
      "\n",
      "\n",
      "https://www.trustedreviews.com/best/best-smartphone-3431175 \n",
      " Best mobile phone 2021: The best smartphones we've tested ... \n",
      " 25/05/2021 · The best phone right now is an Android, but we've got a mixture of the best iPhones from Apple and a whole host of devices from a variety of manufacturers in our top 15 picks. Our phone … \n",
      "\n",
      "\n",
      "\n",
      "\n",
      "https://www.mobiledokan.com/ \n",
      " Mobile Phone Price in Bangladesh 2021 | MobileDokan.com \n",
      " The best Samsung phone with 4GB RAM and 64GB ROM under Rs 30000 is Samsung Galaxy C9 Pro, priced at Rs. 29,399.It is powered by 1.95GHz Octa-Core Snapdragon 653 processor bundled with 6GB of RAM for a beast-like performance and multitasks on heavy games and apps. 16 MP primary camera and a 16 MP front camera.The camera quality of this phone is crisp and clear and it also offers Super … \n",
      "\n",
      "\n",
      "\n",
      "\n",
      "https://www.techradar.com/news/best-phone \n",
      " Best phone 2021: the top 15 smartphones in the US right ... \n",
      " Smart Mobile Mobile Phone Price in Sri Lanka 2021. Shop with Confidence and pay Cash On Delivery. Free Delivery Can be Arranged With in Colombo.. SMARTMOBILE.LK. No.185 B, Dutugemunu Street, Kohuwala, Nugegoda. [Opposite to Kohuwala Police Station] Phone : 0117 03 92 92. Mobile : 0777 92 92 81. SMART MOBILE NUGEGODA. \n",
      "\n",
      "\n",
      "\n",
      "\n",
      "https://www.91mobiles.com/samsung-mobile-price-list-in-india \n",
      " Samsung Mobile Phones Price List in India | 11th June 2021 ... \n",
      " Whether you're searching for basic cell phones, state-of-the-art smartphones or something in between, it's all at your fingertips. Smartphones: Featuring ultra-fast processors, the latest apps, high-resolution cameras, HD displays, sophisticated designs and the newest technology, smartphones make it easy to stay organised and entertained on the go. \n",
      "\n",
      "\n",
      "\n",
      "\n",
      "https://www.ideabeam.com/mobile/store/smart-mobile/ \n",
      " Smart Mobile Mobile Phone Price List in Sri Lanka 2021 ... \n",
      " Mobile-Phone.pk is Pakistan's top mobile website which covers specification, reviews, pictures, videos, screen savers, wallpapers, themes, software of all mobile sets of all mobile brands in the world. We provide latest market mobile prices in Pakistan from cities like Karachi, Lahore, Islamabad, Rawalpindi, Faisalabad, Multan, Peshawer, Quetta, Sialkot, Gujar Khan, Jehlum, Hyderabad, Sargodha ... \n",
      "\n",
      "\n",
      "\n",
      "\n",
      "https://www.lg.com/in/mobile-phones \n",
      " Mobiles Phones - Latest Mobiles Phones in India, LG’s Best ... \n",
      " new mobile phone - Filter. Showing 1 - 30 of 880 products. Sort by. Showing 1 - 30 of 880 products. Add to wishlist. SIM Free Samsung Galaxy A12 64GB Mobile Phone - Black. Rating 4.700449 out of 5 (449) £149.99. Save £20.00. Was £169.99. Choose options. Add to wishlist. Add to wishlist ... \n",
      "\n",
      "\n",
      "\n",
      "\n"
     ]
    }
   ],
   "source": [
    "#filtering search results\n",
    "\n",
    "for head in heading_text:\n",
    "    if (\"Related searches for\" in head) or ('EXPLORE FURTHER' in head) or ('Images of' in head) or ('Videos of' in head) or (\"See more\" in head): #add other elements also\n",
    "        heading_text.remove(head)\n",
    "for link in links:\n",
    "    if \"bing\" in link:\n",
    "        links.remove(link)\n",
    "for i in range((min(len(heading_text),len(links),len(description)))):\n",
    "    print(links[i],\"\\n\",heading_text[i],\"\\n\",description[i],\"\\n\\n\\n\\n\")"
   ]
  },
  {
   "cell_type": "code",
   "execution_count": 99,
   "id": "characteristic-bachelor",
   "metadata": {
    "scrolled": true
   },
   "outputs": [
    {
     "name": "stdout",
     "output_type": "stream",
     "text": [
      "['https://www.tripadvisor.com/Tourism-g293860-India-Vacations.html', 'https://www.cnn.com/india', 'https://www.wikiwand.com/en/India', 'https://www.bbc.com/news/world-south-asia-12557384', 'https://www.wikiwand.com/en/India', 'https://www.tripadvisor.com/Tourism-g293860-India-Vacations.html', 'https://www.worldatlas.com/maps/india', 'https://www.wfp.org/countries/india', 'https://www.theguardian.com/world/india', 'https://www.mapsofindia.com/', 'https://www.scmp.com/topics/india', 'https://www.usatoday.com/in-depth/news/world/2021/04/29/covid-19-crisis-india-display-these-shocking-photos/4886613001/', 'http://www.mea.gov.in/', 'https://www.samsung.com/in/']\n"
     ]
    }
   ],
   "source": [
    "print(links)"
   ]
  },
  {
   "cell_type": "code",
   "execution_count": 88,
   "id": "democratic-hearing",
   "metadata": {
    "scrolled": true
   },
   "outputs": [
    {
     "name": "stdout",
     "output_type": "stream",
     "text": [
      " See more news about india India - Wikiwand India 2021: Best of India Tourism - Tripadvisor India country profile - BBC News India news - Covid-19 coverage, breaking news, video ... India - Wikiwand India 2021: Best of India Tourism - Tripadvisor India Maps & Facts - World Atlas Incredible India | Official Website for Ministry of ... India | Country Page | World | Human Rights Watch Incredible India | English An Introduction to India - Geographia India Map | Free Map of India With States, UTs and Capital ... Cities In India, Maps and Information on Cities of India Xiaomi India | Mobile | TV | Fitness | Smart Home ...\n"
     ]
    }
   ],
   "source": [
    "print(*heading_text)"
   ]
  },
  {
   "cell_type": "code",
   "execution_count": 89,
   "id": "beneficial-blues",
   "metadata": {},
   "outputs": [
    {
     "name": "stdout",
     "output_type": "stream",
     "text": [
      "yes\n"
     ]
    }
   ],
   "source": [
    "if 'related search for' in 'related search for india':\n",
    "    print(\"yes\")"
   ]
  },
  {
   "cell_type": "code",
   "execution_count": 108,
   "id": "amber-elizabeth",
   "metadata": {},
   "outputs": [
    {
     "name": "stdout",
     "output_type": "stream",
     "text": [
      "['New Mobile Phones 2021 | Latest Mobile Price List in India ...', 'Latest Phones : Latest & New Mobile Phones List in 2021.', 'Latest Mobile Phone In India 2021 With Prices, New Phones ...', 'Mobile Phones: Buy New Mobiles Online at Best Prices in ...', 'The Best Phones for 2021 | PCMag', 'Mobile Phones Brands | List of Smartphone Brands (2021 ...', 'Upcoming Mobiles India 2021 - Price, Launch Date ...', 'All Smartphones - Latest Android Mobile Phones - Samsung', 'Cell Phones & Smartphones | Shop the Newest Mobile Phones ...', 'Latest Nokia phones | Our best Android phones 2021', 'Mobile Phones: Buy New Mobiles Online at Best Prices in ...', 'All Smartphones - Latest Android Mobile Phones | Samsung India', \"Best mobile phone 2021: The best smartphones we've tested ...\", 'Mobile Phone Price in Bangladesh 2021 | MobileDokan.com', 'Best phone 2021: the top 15 smartphones in the US right ...', 'Samsung Mobile Phones Price List in India | 11th June 2021 ...', 'Smart Mobile Mobile Phone Price List in Sri Lanka 2021 ...', 'Mobiles Phones - Latest Mobiles Phones in India, LG’s Best ...', 'Mobile phone prices in Pakistan, PK Latest mobiles 2021', 'Results for new mobile phones - Argos']\n"
     ]
    }
   ],
   "source": [
    "print(heading_text)"
   ]
  },
  {
   "cell_type": "code",
   "execution_count": 76,
   "id": "italian-writing",
   "metadata": {},
   "outputs": [
    {
     "name": "stdout",
     "output_type": "stream",
     "text": [
      "Related searches for india\n"
     ]
    }
   ],
   "source": [
    "for head in heading_text:\n",
    "    if 'Related' in head:\n",
    "        print(head)"
   ]
  },
  {
   "cell_type": "code",
   "execution_count": 77,
   "id": "attached-point",
   "metadata": {},
   "outputs": [
    {
     "name": "stdout",
     "output_type": "stream",
     "text": [
      "yes\n"
     ]
    }
   ],
   "source": [
    "link = 'https://www.bing.com/news/search?q=india&qpvt=india&FORM=EWRE'\n",
    "if 'bing' in link:\n",
    "    print(\"yes\")"
   ]
  },
  {
   "cell_type": "code",
   "execution_count": 82,
   "id": "accurate-helena",
   "metadata": {},
   "outputs": [
    {
     "name": "stdout",
     "output_type": "stream",
     "text": [
      "yes\n"
     ]
    }
   ],
   "source": [
    "string  ='See more about india'\n",
    "if 'See more' in string:\n",
    "    print(\"yes\")"
   ]
  },
  {
   "cell_type": "code",
   "execution_count": 100,
   "id": "tough-queen",
   "metadata": {},
   "outputs": [
    {
     "name": "stdout",
     "output_type": "stream",
     "text": [
      "['https://www.tripadvisor.com/Tourism-g293860-India-Vacations.html', 'https://www.cnn.com/india', 'https://www.wikiwand.com/en/India', 'https://www.bbc.com/news/world-south-asia-12557384', 'https://www.wikiwand.com/en/India', 'https://www.tripadvisor.com/Tourism-g293860-India-Vacations.html', 'https://www.worldatlas.com/maps/india', 'https://www.wfp.org/countries/india', 'https://www.theguardian.com/world/india', 'https://www.mapsofindia.com/', 'https://www.scmp.com/topics/india', 'https://www.usatoday.com/in-depth/news/world/2021/04/29/covid-19-crisis-india-display-these-shocking-photos/4886613001/', 'http://www.mea.gov.in/', 'https://www.samsung.com/in/']\n"
     ]
    }
   ],
   "source": [
    "print(links)"
   ]
  },
  {
   "cell_type": "code",
   "execution_count": null,
   "id": "fifteen-tower",
   "metadata": {},
   "outputs": [],
   "source": [
    "import time\n",
    "from selenium import webdriver\n",
    "from selenium.webdriver.common.keys import Keys\n",
    "from selenium.webdriver.common.by import By\n",
    "from selenium.webdriver.support.ui import WebDriverWait\n",
    "from selenium.webdriver.support import expected_conditions as EC\n",
    "\n",
    "Path = r\"C:\\\\chromedriver.exe\"\n",
    "driver = webdriver.Chrome(Path) #creating the driver\n",
    "\n",
    "#converting the search query into link address\n",
    "keys=list(map(str,input().split()))\n",
    "search = \"+\".join(key for key in keys)\n",
    "driver.get(\"https://www.bing.com/search?q=\"+search)"
   ]
  },
  {
   "cell_type": "code",
   "execution_count": null,
   "metadata": {},
   "outputs": [],
   "source": []
  }
 ],
 "metadata": {
  "kernelspec": {
   "name": "python3",
   "display_name": "Python 3.7.0 64-bit"
  },
  "language_info": {
   "codemirror_mode": {
    "name": "ipython",
    "version": 3
   },
   "file_extension": ".py",
   "mimetype": "text/x-python",
   "name": "python",
   "nbconvert_exporter": "python",
   "pygments_lexer": "ipython3",
   "version": "3.7.0"
  },
  "interpreter": {
   "hash": "0c9b0004e6b54e31ac32736b0145205eb681dfb1f93de2c6eab690ef6b51b8e8"
  }
 },
 "nbformat": 4,
 "nbformat_minor": 5
}